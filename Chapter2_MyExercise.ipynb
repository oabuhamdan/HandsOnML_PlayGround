{
 "cells": [
  {
   "cell_type": "markdown",
   "metadata": {
    "collapsed": true,
    "pycharm": {
     "name": "#%% md\n"
    }
   },
   "source": [
    "This notebook is to exercise the knowledge I gained from studying chapter 2.\n",
    "I downloaded the dataset from\n",
    "https://www.kaggle.com/datasets/larsen0966/student-performance-data-set\n",
    "Let's go"
   ]
  },
  {
   "cell_type": "code",
   "execution_count": 26,
   "outputs": [
    {
     "data": {
      "text/plain": "  school sex  age address famsize Pstatus  Medu  Fedu     Mjob      Fjob  ...  \\\n0     GP   F   18       U     GT3       A     4     4  at_home   teacher  ...   \n1     GP   F   17       U     GT3       T     1     1  at_home     other  ...   \n2     GP   F   15       U     LE3       T     1     1  at_home     other  ...   \n3     GP   F   15       U     GT3       T     4     2   health  services  ...   \n4     GP   F   16       U     GT3       T     3     3    other     other  ...   \n\n  famrel freetime  goout  Dalc  Walc health absences  G1  G2  G3  \n0      4        3      4     1     1      3        4   0  11  11  \n1      5        3      3     1     1      3        2   9  11  11  \n2      4        3      2     2     3      3        6  12  13  12  \n3      3        2      2     1     1      5        0  14  14  14  \n4      4        3      2     1     2      5        0  11  13  13  \n\n[5 rows x 33 columns]",
      "text/html": "<div>\n<style scoped>\n    .dataframe tbody tr th:only-of-type {\n        vertical-align: middle;\n    }\n\n    .dataframe tbody tr th {\n        vertical-align: top;\n    }\n\n    .dataframe thead th {\n        text-align: right;\n    }\n</style>\n<table border=\"1\" class=\"dataframe\">\n  <thead>\n    <tr style=\"text-align: right;\">\n      <th></th>\n      <th>school</th>\n      <th>sex</th>\n      <th>age</th>\n      <th>address</th>\n      <th>famsize</th>\n      <th>Pstatus</th>\n      <th>Medu</th>\n      <th>Fedu</th>\n      <th>Mjob</th>\n      <th>Fjob</th>\n      <th>...</th>\n      <th>famrel</th>\n      <th>freetime</th>\n      <th>goout</th>\n      <th>Dalc</th>\n      <th>Walc</th>\n      <th>health</th>\n      <th>absences</th>\n      <th>G1</th>\n      <th>G2</th>\n      <th>G3</th>\n    </tr>\n  </thead>\n  <tbody>\n    <tr>\n      <th>0</th>\n      <td>GP</td>\n      <td>F</td>\n      <td>18</td>\n      <td>U</td>\n      <td>GT3</td>\n      <td>A</td>\n      <td>4</td>\n      <td>4</td>\n      <td>at_home</td>\n      <td>teacher</td>\n      <td>...</td>\n      <td>4</td>\n      <td>3</td>\n      <td>4</td>\n      <td>1</td>\n      <td>1</td>\n      <td>3</td>\n      <td>4</td>\n      <td>0</td>\n      <td>11</td>\n      <td>11</td>\n    </tr>\n    <tr>\n      <th>1</th>\n      <td>GP</td>\n      <td>F</td>\n      <td>17</td>\n      <td>U</td>\n      <td>GT3</td>\n      <td>T</td>\n      <td>1</td>\n      <td>1</td>\n      <td>at_home</td>\n      <td>other</td>\n      <td>...</td>\n      <td>5</td>\n      <td>3</td>\n      <td>3</td>\n      <td>1</td>\n      <td>1</td>\n      <td>3</td>\n      <td>2</td>\n      <td>9</td>\n      <td>11</td>\n      <td>11</td>\n    </tr>\n    <tr>\n      <th>2</th>\n      <td>GP</td>\n      <td>F</td>\n      <td>15</td>\n      <td>U</td>\n      <td>LE3</td>\n      <td>T</td>\n      <td>1</td>\n      <td>1</td>\n      <td>at_home</td>\n      <td>other</td>\n      <td>...</td>\n      <td>4</td>\n      <td>3</td>\n      <td>2</td>\n      <td>2</td>\n      <td>3</td>\n      <td>3</td>\n      <td>6</td>\n      <td>12</td>\n      <td>13</td>\n      <td>12</td>\n    </tr>\n    <tr>\n      <th>3</th>\n      <td>GP</td>\n      <td>F</td>\n      <td>15</td>\n      <td>U</td>\n      <td>GT3</td>\n      <td>T</td>\n      <td>4</td>\n      <td>2</td>\n      <td>health</td>\n      <td>services</td>\n      <td>...</td>\n      <td>3</td>\n      <td>2</td>\n      <td>2</td>\n      <td>1</td>\n      <td>1</td>\n      <td>5</td>\n      <td>0</td>\n      <td>14</td>\n      <td>14</td>\n      <td>14</td>\n    </tr>\n    <tr>\n      <th>4</th>\n      <td>GP</td>\n      <td>F</td>\n      <td>16</td>\n      <td>U</td>\n      <td>GT3</td>\n      <td>T</td>\n      <td>3</td>\n      <td>3</td>\n      <td>other</td>\n      <td>other</td>\n      <td>...</td>\n      <td>4</td>\n      <td>3</td>\n      <td>2</td>\n      <td>1</td>\n      <td>2</td>\n      <td>5</td>\n      <td>0</td>\n      <td>11</td>\n      <td>13</td>\n      <td>13</td>\n    </tr>\n  </tbody>\n</table>\n<p>5 rows × 33 columns</p>\n</div>"
     },
     "execution_count": 26,
     "metadata": {},
     "output_type": "execute_result"
    }
   ],
   "source": [
    "import numpy as np\n",
    "import pandas as pd\n",
    "\n",
    "data = pd.read_csv(\"datasets/student-por.csv\")\n",
    "data.head()"
   ],
   "metadata": {
    "collapsed": false,
    "pycharm": {
     "name": "#%%\n"
    }
   }
  },
  {
   "cell_type": "code",
   "execution_count": 27,
   "outputs": [
    {
     "name": "stdout",
     "output_type": "stream",
     "text": [
      "<class 'pandas.core.frame.DataFrame'>\n",
      "RangeIndex: 649 entries, 0 to 648\n",
      "Data columns (total 33 columns):\n",
      " #   Column      Non-Null Count  Dtype \n",
      "---  ------      --------------  ----- \n",
      " 0   school      649 non-null    object\n",
      " 1   sex         649 non-null    object\n",
      " 2   age         649 non-null    int64 \n",
      " 3   address     649 non-null    object\n",
      " 4   famsize     649 non-null    object\n",
      " 5   Pstatus     649 non-null    object\n",
      " 6   Medu        649 non-null    int64 \n",
      " 7   Fedu        649 non-null    int64 \n",
      " 8   Mjob        649 non-null    object\n",
      " 9   Fjob        649 non-null    object\n",
      " 10  reason      649 non-null    object\n",
      " 11  guardian    649 non-null    object\n",
      " 12  traveltime  649 non-null    int64 \n",
      " 13  studytime   649 non-null    int64 \n",
      " 14  failures    649 non-null    int64 \n",
      " 15  schoolsup   649 non-null    object\n",
      " 16  famsup      649 non-null    object\n",
      " 17  paid        649 non-null    object\n",
      " 18  activities  649 non-null    object\n",
      " 19  nursery     649 non-null    object\n",
      " 20  higher      649 non-null    object\n",
      " 21  internet    649 non-null    object\n",
      " 22  romantic    649 non-null    object\n",
      " 23  famrel      649 non-null    int64 \n",
      " 24  freetime    649 non-null    int64 \n",
      " 25  goout       649 non-null    int64 \n",
      " 26  Dalc        649 non-null    int64 \n",
      " 27  Walc        649 non-null    int64 \n",
      " 28  health      649 non-null    int64 \n",
      " 29  absences    649 non-null    int64 \n",
      " 30  G1          649 non-null    int64 \n",
      " 31  G2          649 non-null    int64 \n",
      " 32  G3          649 non-null    int64 \n",
      "dtypes: int64(16), object(17)\n",
      "memory usage: 167.4+ KB\n"
     ]
    }
   ],
   "source": [
    "data.info()"
   ],
   "metadata": {
    "collapsed": false,
    "pycharm": {
     "name": "#%%\n"
    }
   }
  },
  {
   "cell_type": "code",
   "execution_count": 28,
   "outputs": [
    {
     "data": {
      "text/plain": "              age        Medu        Fedu  traveltime   studytime    failures  \\\ncount  649.000000  649.000000  649.000000  649.000000  649.000000  649.000000   \nmean    16.744222    2.514638    2.306626    1.568567    1.930663    0.221880   \nstd      1.218138    1.134552    1.099931    0.748660    0.829510    0.593235   \nmin     15.000000    0.000000    0.000000    1.000000    1.000000    0.000000   \n25%     16.000000    2.000000    1.000000    1.000000    1.000000    0.000000   \n50%     17.000000    2.000000    2.000000    1.000000    2.000000    0.000000   \n75%     18.000000    4.000000    3.000000    2.000000    2.000000    0.000000   \nmax     22.000000    4.000000    4.000000    4.000000    4.000000    3.000000   \n\n           famrel    freetime       goout        Dalc        Walc      health  \\\ncount  649.000000  649.000000  649.000000  649.000000  649.000000  649.000000   \nmean     3.930663    3.180277    3.184900    1.502311    2.280431    3.536210   \nstd      0.955717    1.051093    1.175766    0.924834    1.284380    1.446259   \nmin      1.000000    1.000000    1.000000    1.000000    1.000000    1.000000   \n25%      4.000000    3.000000    2.000000    1.000000    1.000000    2.000000   \n50%      4.000000    3.000000    3.000000    1.000000    2.000000    4.000000   \n75%      5.000000    4.000000    4.000000    2.000000    3.000000    5.000000   \nmax      5.000000    5.000000    5.000000    5.000000    5.000000    5.000000   \n\n         absences          G1          G2          G3  \ncount  649.000000  649.000000  649.000000  649.000000  \nmean     3.659476   11.399076   11.570108   11.906009  \nstd      4.640759    2.745265    2.913639    3.230656  \nmin      0.000000    0.000000    0.000000    0.000000  \n25%      0.000000   10.000000   10.000000   10.000000  \n50%      2.000000   11.000000   11.000000   12.000000  \n75%      6.000000   13.000000   13.000000   14.000000  \nmax     32.000000   19.000000   19.000000   19.000000  ",
      "text/html": "<div>\n<style scoped>\n    .dataframe tbody tr th:only-of-type {\n        vertical-align: middle;\n    }\n\n    .dataframe tbody tr th {\n        vertical-align: top;\n    }\n\n    .dataframe thead th {\n        text-align: right;\n    }\n</style>\n<table border=\"1\" class=\"dataframe\">\n  <thead>\n    <tr style=\"text-align: right;\">\n      <th></th>\n      <th>age</th>\n      <th>Medu</th>\n      <th>Fedu</th>\n      <th>traveltime</th>\n      <th>studytime</th>\n      <th>failures</th>\n      <th>famrel</th>\n      <th>freetime</th>\n      <th>goout</th>\n      <th>Dalc</th>\n      <th>Walc</th>\n      <th>health</th>\n      <th>absences</th>\n      <th>G1</th>\n      <th>G2</th>\n      <th>G3</th>\n    </tr>\n  </thead>\n  <tbody>\n    <tr>\n      <th>count</th>\n      <td>649.000000</td>\n      <td>649.000000</td>\n      <td>649.000000</td>\n      <td>649.000000</td>\n      <td>649.000000</td>\n      <td>649.000000</td>\n      <td>649.000000</td>\n      <td>649.000000</td>\n      <td>649.000000</td>\n      <td>649.000000</td>\n      <td>649.000000</td>\n      <td>649.000000</td>\n      <td>649.000000</td>\n      <td>649.000000</td>\n      <td>649.000000</td>\n      <td>649.000000</td>\n    </tr>\n    <tr>\n      <th>mean</th>\n      <td>16.744222</td>\n      <td>2.514638</td>\n      <td>2.306626</td>\n      <td>1.568567</td>\n      <td>1.930663</td>\n      <td>0.221880</td>\n      <td>3.930663</td>\n      <td>3.180277</td>\n      <td>3.184900</td>\n      <td>1.502311</td>\n      <td>2.280431</td>\n      <td>3.536210</td>\n      <td>3.659476</td>\n      <td>11.399076</td>\n      <td>11.570108</td>\n      <td>11.906009</td>\n    </tr>\n    <tr>\n      <th>std</th>\n      <td>1.218138</td>\n      <td>1.134552</td>\n      <td>1.099931</td>\n      <td>0.748660</td>\n      <td>0.829510</td>\n      <td>0.593235</td>\n      <td>0.955717</td>\n      <td>1.051093</td>\n      <td>1.175766</td>\n      <td>0.924834</td>\n      <td>1.284380</td>\n      <td>1.446259</td>\n      <td>4.640759</td>\n      <td>2.745265</td>\n      <td>2.913639</td>\n      <td>3.230656</td>\n    </tr>\n    <tr>\n      <th>min</th>\n      <td>15.000000</td>\n      <td>0.000000</td>\n      <td>0.000000</td>\n      <td>1.000000</td>\n      <td>1.000000</td>\n      <td>0.000000</td>\n      <td>1.000000</td>\n      <td>1.000000</td>\n      <td>1.000000</td>\n      <td>1.000000</td>\n      <td>1.000000</td>\n      <td>1.000000</td>\n      <td>0.000000</td>\n      <td>0.000000</td>\n      <td>0.000000</td>\n      <td>0.000000</td>\n    </tr>\n    <tr>\n      <th>25%</th>\n      <td>16.000000</td>\n      <td>2.000000</td>\n      <td>1.000000</td>\n      <td>1.000000</td>\n      <td>1.000000</td>\n      <td>0.000000</td>\n      <td>4.000000</td>\n      <td>3.000000</td>\n      <td>2.000000</td>\n      <td>1.000000</td>\n      <td>1.000000</td>\n      <td>2.000000</td>\n      <td>0.000000</td>\n      <td>10.000000</td>\n      <td>10.000000</td>\n      <td>10.000000</td>\n    </tr>\n    <tr>\n      <th>50%</th>\n      <td>17.000000</td>\n      <td>2.000000</td>\n      <td>2.000000</td>\n      <td>1.000000</td>\n      <td>2.000000</td>\n      <td>0.000000</td>\n      <td>4.000000</td>\n      <td>3.000000</td>\n      <td>3.000000</td>\n      <td>1.000000</td>\n      <td>2.000000</td>\n      <td>4.000000</td>\n      <td>2.000000</td>\n      <td>11.000000</td>\n      <td>11.000000</td>\n      <td>12.000000</td>\n    </tr>\n    <tr>\n      <th>75%</th>\n      <td>18.000000</td>\n      <td>4.000000</td>\n      <td>3.000000</td>\n      <td>2.000000</td>\n      <td>2.000000</td>\n      <td>0.000000</td>\n      <td>5.000000</td>\n      <td>4.000000</td>\n      <td>4.000000</td>\n      <td>2.000000</td>\n      <td>3.000000</td>\n      <td>5.000000</td>\n      <td>6.000000</td>\n      <td>13.000000</td>\n      <td>13.000000</td>\n      <td>14.000000</td>\n    </tr>\n    <tr>\n      <th>max</th>\n      <td>22.000000</td>\n      <td>4.000000</td>\n      <td>4.000000</td>\n      <td>4.000000</td>\n      <td>4.000000</td>\n      <td>3.000000</td>\n      <td>5.000000</td>\n      <td>5.000000</td>\n      <td>5.000000</td>\n      <td>5.000000</td>\n      <td>5.000000</td>\n      <td>5.000000</td>\n      <td>32.000000</td>\n      <td>19.000000</td>\n      <td>19.000000</td>\n      <td>19.000000</td>\n    </tr>\n  </tbody>\n</table>\n</div>"
     },
     "execution_count": 28,
     "metadata": {},
     "output_type": "execute_result"
    }
   ],
   "source": [
    "data.describe()"
   ],
   "metadata": {
    "collapsed": false,
    "pycharm": {
     "name": "#%%\n"
    }
   }
  },
  {
   "cell_type": "code",
   "execution_count": 29,
   "outputs": [
    {
     "data": {
      "text/plain": "                 age      Medu      Fedu  traveltime  studytime  failures  \\\nage         1.000000 -0.107832 -0.121050    0.034490  -0.008415  0.319968   \nMedu       -0.107832  1.000000  0.647477   -0.265079   0.097006 -0.172210   \nFedu       -0.121050  0.647477  1.000000   -0.208288   0.050400 -0.165915   \ntraveltime  0.034490 -0.265079 -0.208288    1.000000  -0.063154  0.097730   \nstudytime  -0.008415  0.097006  0.050400   -0.063154   1.000000 -0.147441   \nfailures    0.319968 -0.172210 -0.165915    0.097730  -0.147441  1.000000   \nfamrel     -0.020559  0.024421  0.020256   -0.009521  -0.004127 -0.062645   \nfreetime   -0.004910 -0.019686  0.006841    0.000937  -0.068829  0.108995   \ngoout       0.112805  0.009536  0.027690    0.057454  -0.075442  0.045078   \nDalc        0.134768 -0.007018  0.000061    0.092824  -0.137585  0.105949   \nWalc        0.086357 -0.019766  0.038445    0.057007  -0.214925  0.082266   \nhealth     -0.008750  0.004614  0.044910   -0.048261  -0.056433  0.035588   \nabsences    0.149998 -0.008577  0.029859   -0.008149  -0.118389  0.122779   \nG1         -0.174322  0.260472  0.217501   -0.154120   0.260875 -0.384210   \nG2         -0.107119  0.264035  0.225139   -0.154489   0.240498 -0.385782   \nG3         -0.106505  0.240151  0.211800   -0.127173   0.249789 -0.393316   \n\n              famrel  freetime     goout      Dalc      Walc    health  \\\nage        -0.020559 -0.004910  0.112805  0.134768  0.086357 -0.008750   \nMedu        0.024421 -0.019686  0.009536 -0.007018 -0.019766  0.004614   \nFedu        0.020256  0.006841  0.027690  0.000061  0.038445  0.044910   \ntraveltime -0.009521  0.000937  0.057454  0.092824  0.057007 -0.048261   \nstudytime  -0.004127 -0.068829 -0.075442 -0.137585 -0.214925 -0.056433   \nfailures   -0.062645  0.108995  0.045078  0.105949  0.082266  0.035588   \nfamrel      1.000000  0.129216  0.089707 -0.075767 -0.093511  0.109559   \nfreetime    0.129216  1.000000  0.346352  0.109904  0.120244  0.084526   \ngoout       0.089707  0.346352  1.000000  0.245126  0.388680 -0.015741   \nDalc       -0.075767  0.109904  0.245126  1.000000  0.616561  0.059067   \nWalc       -0.093511  0.120244  0.388680  0.616561  1.000000  0.114988   \nhealth      0.109559  0.084526 -0.015741  0.059067  0.114988  1.000000   \nabsences   -0.089534 -0.018716  0.085374  0.172952  0.156373 -0.030235   \nG1          0.048795 -0.094497 -0.074053 -0.195171 -0.155649 -0.051647   \nG2          0.089588 -0.106678 -0.079469 -0.189480 -0.164852 -0.082179   \nG3          0.063361 -0.122705 -0.087641 -0.204719 -0.176619 -0.098851   \n\n            absences        G1        G2        G3  \nage         0.149998 -0.174322 -0.107119 -0.106505  \nMedu       -0.008577  0.260472  0.264035  0.240151  \nFedu        0.029859  0.217501  0.225139  0.211800  \ntraveltime -0.008149 -0.154120 -0.154489 -0.127173  \nstudytime  -0.118389  0.260875  0.240498  0.249789  \nfailures    0.122779 -0.384210 -0.385782 -0.393316  \nfamrel     -0.089534  0.048795  0.089588  0.063361  \nfreetime   -0.018716 -0.094497 -0.106678 -0.122705  \ngoout       0.085374 -0.074053 -0.079469 -0.087641  \nDalc        0.172952 -0.195171 -0.189480 -0.204719  \nWalc        0.156373 -0.155649 -0.164852 -0.176619  \nhealth     -0.030235 -0.051647 -0.082179 -0.098851  \nabsences    1.000000 -0.147149 -0.124745 -0.091379  \nG1         -0.147149  1.000000  0.864982  0.826387  \nG2         -0.124745  0.864982  1.000000  0.918548  \nG3         -0.091379  0.826387  0.918548  1.000000  ",
      "text/html": "<div>\n<style scoped>\n    .dataframe tbody tr th:only-of-type {\n        vertical-align: middle;\n    }\n\n    .dataframe tbody tr th {\n        vertical-align: top;\n    }\n\n    .dataframe thead th {\n        text-align: right;\n    }\n</style>\n<table border=\"1\" class=\"dataframe\">\n  <thead>\n    <tr style=\"text-align: right;\">\n      <th></th>\n      <th>age</th>\n      <th>Medu</th>\n      <th>Fedu</th>\n      <th>traveltime</th>\n      <th>studytime</th>\n      <th>failures</th>\n      <th>famrel</th>\n      <th>freetime</th>\n      <th>goout</th>\n      <th>Dalc</th>\n      <th>Walc</th>\n      <th>health</th>\n      <th>absences</th>\n      <th>G1</th>\n      <th>G2</th>\n      <th>G3</th>\n    </tr>\n  </thead>\n  <tbody>\n    <tr>\n      <th>age</th>\n      <td>1.000000</td>\n      <td>-0.107832</td>\n      <td>-0.121050</td>\n      <td>0.034490</td>\n      <td>-0.008415</td>\n      <td>0.319968</td>\n      <td>-0.020559</td>\n      <td>-0.004910</td>\n      <td>0.112805</td>\n      <td>0.134768</td>\n      <td>0.086357</td>\n      <td>-0.008750</td>\n      <td>0.149998</td>\n      <td>-0.174322</td>\n      <td>-0.107119</td>\n      <td>-0.106505</td>\n    </tr>\n    <tr>\n      <th>Medu</th>\n      <td>-0.107832</td>\n      <td>1.000000</td>\n      <td>0.647477</td>\n      <td>-0.265079</td>\n      <td>0.097006</td>\n      <td>-0.172210</td>\n      <td>0.024421</td>\n      <td>-0.019686</td>\n      <td>0.009536</td>\n      <td>-0.007018</td>\n      <td>-0.019766</td>\n      <td>0.004614</td>\n      <td>-0.008577</td>\n      <td>0.260472</td>\n      <td>0.264035</td>\n      <td>0.240151</td>\n    </tr>\n    <tr>\n      <th>Fedu</th>\n      <td>-0.121050</td>\n      <td>0.647477</td>\n      <td>1.000000</td>\n      <td>-0.208288</td>\n      <td>0.050400</td>\n      <td>-0.165915</td>\n      <td>0.020256</td>\n      <td>0.006841</td>\n      <td>0.027690</td>\n      <td>0.000061</td>\n      <td>0.038445</td>\n      <td>0.044910</td>\n      <td>0.029859</td>\n      <td>0.217501</td>\n      <td>0.225139</td>\n      <td>0.211800</td>\n    </tr>\n    <tr>\n      <th>traveltime</th>\n      <td>0.034490</td>\n      <td>-0.265079</td>\n      <td>-0.208288</td>\n      <td>1.000000</td>\n      <td>-0.063154</td>\n      <td>0.097730</td>\n      <td>-0.009521</td>\n      <td>0.000937</td>\n      <td>0.057454</td>\n      <td>0.092824</td>\n      <td>0.057007</td>\n      <td>-0.048261</td>\n      <td>-0.008149</td>\n      <td>-0.154120</td>\n      <td>-0.154489</td>\n      <td>-0.127173</td>\n    </tr>\n    <tr>\n      <th>studytime</th>\n      <td>-0.008415</td>\n      <td>0.097006</td>\n      <td>0.050400</td>\n      <td>-0.063154</td>\n      <td>1.000000</td>\n      <td>-0.147441</td>\n      <td>-0.004127</td>\n      <td>-0.068829</td>\n      <td>-0.075442</td>\n      <td>-0.137585</td>\n      <td>-0.214925</td>\n      <td>-0.056433</td>\n      <td>-0.118389</td>\n      <td>0.260875</td>\n      <td>0.240498</td>\n      <td>0.249789</td>\n    </tr>\n    <tr>\n      <th>failures</th>\n      <td>0.319968</td>\n      <td>-0.172210</td>\n      <td>-0.165915</td>\n      <td>0.097730</td>\n      <td>-0.147441</td>\n      <td>1.000000</td>\n      <td>-0.062645</td>\n      <td>0.108995</td>\n      <td>0.045078</td>\n      <td>0.105949</td>\n      <td>0.082266</td>\n      <td>0.035588</td>\n      <td>0.122779</td>\n      <td>-0.384210</td>\n      <td>-0.385782</td>\n      <td>-0.393316</td>\n    </tr>\n    <tr>\n      <th>famrel</th>\n      <td>-0.020559</td>\n      <td>0.024421</td>\n      <td>0.020256</td>\n      <td>-0.009521</td>\n      <td>-0.004127</td>\n      <td>-0.062645</td>\n      <td>1.000000</td>\n      <td>0.129216</td>\n      <td>0.089707</td>\n      <td>-0.075767</td>\n      <td>-0.093511</td>\n      <td>0.109559</td>\n      <td>-0.089534</td>\n      <td>0.048795</td>\n      <td>0.089588</td>\n      <td>0.063361</td>\n    </tr>\n    <tr>\n      <th>freetime</th>\n      <td>-0.004910</td>\n      <td>-0.019686</td>\n      <td>0.006841</td>\n      <td>0.000937</td>\n      <td>-0.068829</td>\n      <td>0.108995</td>\n      <td>0.129216</td>\n      <td>1.000000</td>\n      <td>0.346352</td>\n      <td>0.109904</td>\n      <td>0.120244</td>\n      <td>0.084526</td>\n      <td>-0.018716</td>\n      <td>-0.094497</td>\n      <td>-0.106678</td>\n      <td>-0.122705</td>\n    </tr>\n    <tr>\n      <th>goout</th>\n      <td>0.112805</td>\n      <td>0.009536</td>\n      <td>0.027690</td>\n      <td>0.057454</td>\n      <td>-0.075442</td>\n      <td>0.045078</td>\n      <td>0.089707</td>\n      <td>0.346352</td>\n      <td>1.000000</td>\n      <td>0.245126</td>\n      <td>0.388680</td>\n      <td>-0.015741</td>\n      <td>0.085374</td>\n      <td>-0.074053</td>\n      <td>-0.079469</td>\n      <td>-0.087641</td>\n    </tr>\n    <tr>\n      <th>Dalc</th>\n      <td>0.134768</td>\n      <td>-0.007018</td>\n      <td>0.000061</td>\n      <td>0.092824</td>\n      <td>-0.137585</td>\n      <td>0.105949</td>\n      <td>-0.075767</td>\n      <td>0.109904</td>\n      <td>0.245126</td>\n      <td>1.000000</td>\n      <td>0.616561</td>\n      <td>0.059067</td>\n      <td>0.172952</td>\n      <td>-0.195171</td>\n      <td>-0.189480</td>\n      <td>-0.204719</td>\n    </tr>\n    <tr>\n      <th>Walc</th>\n      <td>0.086357</td>\n      <td>-0.019766</td>\n      <td>0.038445</td>\n      <td>0.057007</td>\n      <td>-0.214925</td>\n      <td>0.082266</td>\n      <td>-0.093511</td>\n      <td>0.120244</td>\n      <td>0.388680</td>\n      <td>0.616561</td>\n      <td>1.000000</td>\n      <td>0.114988</td>\n      <td>0.156373</td>\n      <td>-0.155649</td>\n      <td>-0.164852</td>\n      <td>-0.176619</td>\n    </tr>\n    <tr>\n      <th>health</th>\n      <td>-0.008750</td>\n      <td>0.004614</td>\n      <td>0.044910</td>\n      <td>-0.048261</td>\n      <td>-0.056433</td>\n      <td>0.035588</td>\n      <td>0.109559</td>\n      <td>0.084526</td>\n      <td>-0.015741</td>\n      <td>0.059067</td>\n      <td>0.114988</td>\n      <td>1.000000</td>\n      <td>-0.030235</td>\n      <td>-0.051647</td>\n      <td>-0.082179</td>\n      <td>-0.098851</td>\n    </tr>\n    <tr>\n      <th>absences</th>\n      <td>0.149998</td>\n      <td>-0.008577</td>\n      <td>0.029859</td>\n      <td>-0.008149</td>\n      <td>-0.118389</td>\n      <td>0.122779</td>\n      <td>-0.089534</td>\n      <td>-0.018716</td>\n      <td>0.085374</td>\n      <td>0.172952</td>\n      <td>0.156373</td>\n      <td>-0.030235</td>\n      <td>1.000000</td>\n      <td>-0.147149</td>\n      <td>-0.124745</td>\n      <td>-0.091379</td>\n    </tr>\n    <tr>\n      <th>G1</th>\n      <td>-0.174322</td>\n      <td>0.260472</td>\n      <td>0.217501</td>\n      <td>-0.154120</td>\n      <td>0.260875</td>\n      <td>-0.384210</td>\n      <td>0.048795</td>\n      <td>-0.094497</td>\n      <td>-0.074053</td>\n      <td>-0.195171</td>\n      <td>-0.155649</td>\n      <td>-0.051647</td>\n      <td>-0.147149</td>\n      <td>1.000000</td>\n      <td>0.864982</td>\n      <td>0.826387</td>\n    </tr>\n    <tr>\n      <th>G2</th>\n      <td>-0.107119</td>\n      <td>0.264035</td>\n      <td>0.225139</td>\n      <td>-0.154489</td>\n      <td>0.240498</td>\n      <td>-0.385782</td>\n      <td>0.089588</td>\n      <td>-0.106678</td>\n      <td>-0.079469</td>\n      <td>-0.189480</td>\n      <td>-0.164852</td>\n      <td>-0.082179</td>\n      <td>-0.124745</td>\n      <td>0.864982</td>\n      <td>1.000000</td>\n      <td>0.918548</td>\n    </tr>\n    <tr>\n      <th>G3</th>\n      <td>-0.106505</td>\n      <td>0.240151</td>\n      <td>0.211800</td>\n      <td>-0.127173</td>\n      <td>0.249789</td>\n      <td>-0.393316</td>\n      <td>0.063361</td>\n      <td>-0.122705</td>\n      <td>-0.087641</td>\n      <td>-0.204719</td>\n      <td>-0.176619</td>\n      <td>-0.098851</td>\n      <td>-0.091379</td>\n      <td>0.826387</td>\n      <td>0.918548</td>\n      <td>1.000000</td>\n    </tr>\n  </tbody>\n</table>\n</div>"
     },
     "execution_count": 29,
     "metadata": {},
     "output_type": "execute_result"
    }
   ],
   "source": [
    "data.corr()"
   ],
   "metadata": {
    "collapsed": false,
    "pycharm": {
     "name": "#%%\n"
    }
   }
  },
  {
   "cell_type": "code",
   "execution_count": 31,
   "outputs": [
    {
     "data": {
      "text/plain": "<Figure size 1440x1080 with 16 Axes>",
      "image/png": "[encoded data removed]"
     },
     "metadata": {
      "needs_background": "light"
     },
     "output_type": "display_data"
    }
   ],
   "source": [
    "import matplotlib.pyplot as plt\n",
    "\n",
    "data.hist(figsize=(20, 15))\n",
    "plt.show()"
   ],
   "metadata": {
    "collapsed": false,
    "pycharm": {
     "name": "#%%\n"
    }
   }
  },
  {
   "cell_type": "code",
   "execution_count": 32,
   "outputs": [
    {
     "data": {
      "text/plain": "    school sex  age address famsize Pstatus  Medu  Fedu     Mjob   Fjob  ...  \\\n276     GP   M   16       U     GT3       T     2     1    other  other  ...   \n202     GP   F   17       U     GT3       A     3     3   health  other  ...   \n97      GP   F   16       U     GT3       T     2     1    other  other  ...   \n390     GP   F   18       R     GT3       T     2     2  at_home  other  ...   \n232     GP   F   17       U     GT3       T     2     3  at_home  other  ...   \n\n    famrel freetime  goout  Dalc  Walc health absences  G1  G2  G3  \n276      4        3      3     1     1      4        7  15  16  16  \n202      3        3      3     1     3      3       10  12  13  14  \n97       4        3      5     1     1      5        0  13  12  12  \n390      4        4      4     1     1      4        6  14  13  14  \n232      3        3      3     1     4      3        4  12  13  13  \n\n[5 rows x 33 columns]",
      "text/html": "<div>\n<style scoped>\n    .dataframe tbody tr th:only-of-type {\n        vertical-align: middle;\n    }\n\n    .dataframe tbody tr th {\n        vertical-align: top;\n    }\n\n    .dataframe thead th {\n        text-align: right;\n    }\n</style>\n<table border=\"1\" class=\"dataframe\">\n  <thead>\n    <tr style=\"text-align: right;\">\n      <th></th>\n      <th>school</th>\n      <th>sex</th>\n      <th>age</th>\n      <th>address</th>\n      <th>famsize</th>\n      <th>Pstatus</th>\n      <th>Medu</th>\n      <th>Fedu</th>\n      <th>Mjob</th>\n      <th>Fjob</th>\n      <th>...</th>\n      <th>famrel</th>\n      <th>freetime</th>\n      <th>goout</th>\n      <th>Dalc</th>\n      <th>Walc</th>\n      <th>health</th>\n      <th>absences</th>\n      <th>G1</th>\n      <th>G2</th>\n      <th>G3</th>\n    </tr>\n  </thead>\n  <tbody>\n    <tr>\n      <th>276</th>\n      <td>GP</td>\n      <td>M</td>\n      <td>16</td>\n      <td>U</td>\n      <td>GT3</td>\n      <td>T</td>\n      <td>2</td>\n      <td>1</td>\n      <td>other</td>\n      <td>other</td>\n      <td>...</td>\n      <td>4</td>\n      <td>3</td>\n      <td>3</td>\n      <td>1</td>\n      <td>1</td>\n      <td>4</td>\n      <td>7</td>\n      <td>15</td>\n      <td>16</td>\n      <td>16</td>\n    </tr>\n    <tr>\n      <th>202</th>\n      <td>GP</td>\n      <td>F</td>\n      <td>17</td>\n      <td>U</td>\n      <td>GT3</td>\n      <td>A</td>\n      <td>3</td>\n      <td>3</td>\n      <td>health</td>\n      <td>other</td>\n      <td>...</td>\n      <td>3</td>\n      <td>3</td>\n      <td>3</td>\n      <td>1</td>\n      <td>3</td>\n      <td>3</td>\n      <td>10</td>\n      <td>12</td>\n      <td>13</td>\n      <td>14</td>\n    </tr>\n    <tr>\n      <th>97</th>\n      <td>GP</td>\n      <td>F</td>\n      <td>16</td>\n      <td>U</td>\n      <td>GT3</td>\n      <td>T</td>\n      <td>2</td>\n      <td>1</td>\n      <td>other</td>\n      <td>other</td>\n      <td>...</td>\n      <td>4</td>\n      <td>3</td>\n      <td>5</td>\n      <td>1</td>\n      <td>1</td>\n      <td>5</td>\n      <td>0</td>\n      <td>13</td>\n      <td>12</td>\n      <td>12</td>\n    </tr>\n    <tr>\n      <th>390</th>\n      <td>GP</td>\n      <td>F</td>\n      <td>18</td>\n      <td>R</td>\n      <td>GT3</td>\n      <td>T</td>\n      <td>2</td>\n      <td>2</td>\n      <td>at_home</td>\n      <td>other</td>\n      <td>...</td>\n      <td>4</td>\n      <td>4</td>\n      <td>4</td>\n      <td>1</td>\n      <td>1</td>\n      <td>4</td>\n      <td>6</td>\n      <td>14</td>\n      <td>13</td>\n      <td>14</td>\n    </tr>\n    <tr>\n      <th>232</th>\n      <td>GP</td>\n      <td>F</td>\n      <td>17</td>\n      <td>U</td>\n      <td>GT3</td>\n      <td>T</td>\n      <td>2</td>\n      <td>3</td>\n      <td>at_home</td>\n      <td>other</td>\n      <td>...</td>\n      <td>3</td>\n      <td>3</td>\n      <td>3</td>\n      <td>1</td>\n      <td>4</td>\n      <td>3</td>\n      <td>4</td>\n      <td>12</td>\n      <td>13</td>\n      <td>13</td>\n    </tr>\n  </tbody>\n</table>\n<p>5 rows × 33 columns</p>\n</div>"
     },
     "execution_count": 32,
     "metadata": {},
     "output_type": "execute_result"
    }
   ],
   "source": [
    "from sklearn.model_selection import train_test_split\n",
    "\n",
    "#random_state sets the random seed\n",
    "train_set, test_set = train_test_split(data, test_size=0.2, random_state=50)\n",
    "train_set.head()"
   ],
   "metadata": {
    "collapsed": false,
    "pycharm": {
     "name": "#%%\n"
    }
   }
  },
  {
   "cell_type": "code",
   "execution_count": 33,
   "outputs": [],
   "source": [
    "train_data = train_set.drop(['G1', 'G2', 'G3'], axis=1)\n",
    "g1_labels = train_set['G1'].copy()\n",
    "g2_labels = train_set['G2'].copy()\n",
    "g3_labels = train_set['G3'].copy()"
   ],
   "metadata": {
    "collapsed": false,
    "pycharm": {
     "name": "#%%\n"
    }
   }
  },
  {
   "cell_type": "markdown",
   "source": [
    "# Handling Numeric Values"
   ],
   "metadata": {
    "collapsed": false
   }
  },
  {
   "cell_type": "code",
   "execution_count": 34,
   "outputs": [
    {
     "data": {
      "text/plain": "array([[1., 1.],\n       [2., 2.],\n       [0., 1.],\n       ...,\n       [0., 2.],\n       [0., 1.],\n       [0., 4.]])"
     },
     "execution_count": 34,
     "metadata": {},
     "output_type": "execute_result"
    }
   ],
   "source": [
    "from sklearn.compose import ColumnTransformer\n",
    "from sklearn.base import BaseEstimator, TransformerMixin\n",
    "from sklearn.preprocessing import MinMaxScaler, OrdinalEncoder\n",
    "\n",
    "\n",
    "class AbsencesTransformer(BaseEstimator, TransformerMixin):\n",
    "    def fit(self, X, y=None):\n",
    "        return self\n",
    "\n",
    "    def transform(self, X):\n",
    "        mms = MinMaxScaler(feature_range=(0, 5))\n",
    "        absences = X[['absences']]\n",
    "        res = np.round(mms.fit_transform(absences))\n",
    "        return np.c_[res]\n",
    "\n",
    "\n",
    "num_trans = ColumnTransformer([\n",
    "    ('absence', AbsencesTransformer(), ['absences']),\n",
    "    ('ord', OrdinalEncoder(), ['age']),\n",
    "\n",
    "])\n",
    "num_trans.fit_transform(train_data)\n"
   ],
   "metadata": {
    "collapsed": false,
    "pycharm": {
     "name": "#%%\n"
    }
   }
  },
  {
   "cell_type": "markdown",
   "source": [
    "# Handling Text Values"
   ],
   "metadata": {
    "collapsed": false
   }
  },
  {
   "cell_type": "code",
   "execution_count": 35,
   "outputs": [
    {
     "data": {
      "text/plain": "array([[0., 1., 1., ..., 0., 1., 0.],\n       [0., 0., 1., ..., 0., 1., 0.],\n       [0., 0., 1., ..., 0., 1., 0.],\n       ...,\n       [0., 0., 1., ..., 0., 1., 0.],\n       [0., 0., 1., ..., 0., 1., 0.],\n       [1., 0., 1., ..., 0., 0., 1.]])"
     },
     "execution_count": 35,
     "metadata": {},
     "output_type": "execute_result"
    }
   ],
   "source": [
    "from sklearn.preprocessing import OneHotEncoder\n",
    "\n",
    "ord_enc_attr = ['school', 'sex', 'address', 'famsize', 'Pstatus', 'schoolsup', 'famsup', 'paid', 'activities',\n",
    "                'nursery', 'higher',\n",
    "                'internet', 'romantic']\n",
    "onehot_enc_attr = ['Mjob', 'Fjob', 'reason', 'guardian']\n",
    "\n",
    "text_pipeline = ColumnTransformer([\n",
    "    ('ord_enc', OrdinalEncoder(), ord_enc_attr),\n",
    "    ('onehot_enc', OneHotEncoder(), onehot_enc_attr)\n",
    "])\n",
    "text_pipeline.fit_transform(train_data)"
   ],
   "metadata": {
    "collapsed": false,
    "pycharm": {
     "name": "#%%\n"
    }
   }
  },
  {
   "cell_type": "code",
   "execution_count": 36,
   "outputs": [
    {
     "data": {
      "text/plain": "array([[0., 1., 1., ..., 1., 1., 4.],\n       [0., 0., 1., ..., 1., 3., 3.],\n       [0., 0., 1., ..., 1., 1., 5.],\n       ...,\n       [0., 0., 1., ..., 1., 1., 4.],\n       [0., 0., 1., ..., 1., 1., 4.],\n       [1., 0., 1., ..., 1., 1., 2.]])"
     },
     "execution_count": 36,
     "metadata": {},
     "output_type": "execute_result"
    }
   ],
   "source": [
    "ord_enc_attr = ['school', 'sex', 'address', 'famsize', 'Pstatus', 'schoolsup', 'famsup', 'paid', 'activities',\n",
    "                'nursery', 'higher', 'internet', 'romantic']\n",
    "onehot_enc_attr = ['Mjob', 'Fjob', 'reason', 'guardian']\n",
    "\n",
    "full_pipline = ColumnTransformer([\n",
    "    ('ord_enc', OrdinalEncoder(), ord_enc_attr),\n",
    "    ('onehot_enc', OneHotEncoder(sparse=False), onehot_enc_attr),\n",
    "    ('abs_trans', AbsencesTransformer(), ['absences']),\n",
    "    ('age_trans', OrdinalEncoder(), ['age']),\n",
    "], remainder=\"passthrough\")\n",
    "data_transformed = full_pipline.fit_transform(train_data)\n",
    "data_transformed"
   ],
   "metadata": {
    "collapsed": false,
    "pycharm": {
     "name": "#%%\n"
    }
   }
  },
  {
   "cell_type": "code",
   "execution_count": 37,
   "outputs": [],
   "source": [
    "data_transformed_pd = pd.DataFrame(data_transformed)"
   ],
   "metadata": {
    "collapsed": false,
    "pycharm": {
     "name": "#%%\n"
    }
   }
  },
  {
   "cell_type": "code",
   "execution_count": 43,
   "outputs": [
    {
     "name": "stdout",
     "output_type": "stream",
     "text": [
      "2.1909199290648513\n"
     ]
    }
   ],
   "source": [
    "# Predicting g1 grades with linear regression\n",
    "from sklearn.linear_model import LinearRegression\n",
    "from sklearn.metrics import mean_squared_error\n",
    "\n",
    "l_reg_g1 = LinearRegression()\n",
    "l_reg_g1.fit(data_transformed, g1_labels)\n",
    "\n",
    "predictions = l_reg_g1.predict(data_transformed_pd)\n",
    "mse = mean_squared_error(g1_labels, predictions)\n",
    "rmse = np.sqrt(mse)\n",
    "print(rmse)"
   ],
   "metadata": {
    "collapsed": false,
    "pycharm": {
     "name": "#%%\n"
    }
   }
  },
  {
   "cell_type": "code",
   "execution_count": 44,
   "outputs": [
    {
     "name": "stdout",
     "output_type": "stream",
     "text": [
      "2.3462851948446275\n"
     ]
    }
   ],
   "source": [
    "# Predicting g2 grades with linear regression\n",
    "l_reg_g2 = LinearRegression()\n",
    "l_reg_g2.fit(data_transformed, g2_labels)\n",
    "\n",
    "predictions = l_reg_g2.predict(data_transformed_pd)\n",
    "mse = mean_squared_error(g2_labels, predictions)\n",
    "rmse = np.sqrt(mse)\n",
    "print(rmse)"
   ],
   "metadata": {
    "collapsed": false,
    "pycharm": {
     "name": "#%%\n"
    }
   }
  },
  {
   "cell_type": "code",
   "execution_count": 45,
   "outputs": [
    {
     "name": "stdout",
     "output_type": "stream",
     "text": [
      "2.575753298459668\n"
     ]
    }
   ],
   "source": [
    "# Predicting g3 grades with linear regression\n",
    "l_reg_g3 = LinearRegression()\n",
    "l_reg_g3.fit(data_transformed, g3_labels)\n",
    "\n",
    "predictions = l_reg_g3.predict(data_transformed_pd)\n",
    "mse = mean_squared_error(g3_labels, predictions)\n",
    "rmse = np.sqrt(mse)\n",
    "print(rmse)"
   ],
   "metadata": {
    "collapsed": false,
    "pycharm": {
     "name": "#%%\n"
    }
   }
  },
  {
   "cell_type": "code",
   "execution_count": 51,
   "outputs": [
    {
     "name": "stdout",
     "output_type": "stream",
     "text": [
      "0.0\n"
     ]
    }
   ],
   "source": [
    "# Predicting g1 grades with Decision Tree regression\n",
    "from sklearn.tree import DecisionTreeRegressor\n",
    "\n",
    "tree_reg_g3 = DecisionTreeRegressor()\n",
    "tree_reg_g3.fit(data_transformed, g3_labels)\n",
    "\n",
    "predictions = tree_reg_g3.predict(data_transformed_pd)\n",
    "mse = mean_squared_error(g3_labels, predictions)\n",
    "rmse = np.sqrt(mse)\n",
    "print(rmse)"
   ],
   "metadata": {
    "collapsed": false,
    "pycharm": {
     "name": "#%%\n"
    }
   }
  },
  {
   "cell_type": "code",
   "execution_count": 76,
   "outputs": [
    {
     "name": "stdout",
     "output_type": "stream",
     "text": [
      "Scores: [4.14172019 4.55943654 4.19706857 3.76981942 3.08532507 3.25221818\n",
      " 3.75704467 4.24037371 4.11610346 3.62182924]\n",
      "Mean: 3.874093904990764\n",
      "STD: 0.43993833270173854\n"
     ]
    }
   ],
   "source": [
    "from sklearn.model_selection import cross_val_score\n",
    "\n",
    "# cross_val_score expects a utility function (greater is better) rather than a cost function (smaller is better). So, the scoring function is the opposite of MSE.\n",
    "scores = cross_val_score(tree_reg_g3, data_transformed_pd, g3_labels, scoring=\"neg_mean_squared_error\", cv=10)\n",
    "tree_rmse_scores = np.sqrt(-scores)\n",
    "\n",
    "\n",
    "def display_scores(scorez):\n",
    "    print(f\"Scores: {scorez}\")\n",
    "    print(f\"Mean: {scorez.mean()}\")\n",
    "    print(f\"STD: {scorez.std()}\")\n",
    "\n",
    "\n",
    "display_scores(tree_rmse_scores)"
   ],
   "metadata": {
    "collapsed": false,
    "pycharm": {
     "name": "#%%\n"
    }
   }
  },
  {
   "cell_type": "code",
   "execution_count": 77,
   "outputs": [
    {
     "name": "stdout",
     "output_type": "stream",
     "text": [
      "Scores: [2.83428049 2.59544797 2.45732555 2.61851236 2.34524073 2.31214614\n",
      " 2.77962886 3.11731001 3.40816522 3.25610962]\n",
      "Mean: 2.7724166945613242\n",
      "STD: 0.3618813030481113\n"
     ]
    }
   ],
   "source": [
    "scores = cross_val_score(l_reg_g3, data_transformed_pd, g3_labels, scoring=\"neg_mean_squared_error\", cv=10)\n",
    "tree_rmse_scores = np.sqrt(-scores)\n",
    "\n",
    "display_scores(tree_rmse_scores)"
   ],
   "metadata": {
    "collapsed": false,
    "pycharm": {
     "name": "#%%\n"
    }
   }
  },
  {
   "cell_type": "code",
   "execution_count": 78,
   "outputs": [
    {
     "name": "stdout",
     "output_type": "stream",
     "text": [
      "Scores: [2.90541404 2.63718855 2.37768148 2.51494342 2.18512409 2.50376371\n",
      " 2.52612732 3.08101944 3.48147515 2.97006404]\n",
      "Mean: 2.718280123999654\n",
      "STD: 0.36654947057173337\n"
     ]
    }
   ],
   "source": [
    "from sklearn.ensemble import RandomForestRegressor\n",
    "\n",
    "# Random forest works by training many decision tress with random set of features and average these predictions\n",
    "rfr = RandomForestRegressor()\n",
    "rfr.fit(data_transformed_pd, g3_labels)\n",
    "scores = cross_val_score(rfr, data_transformed_pd, g3_labels, scoring=\"neg_mean_squared_error\", cv=10)\n",
    "rfr_rmse_scores = np.sqrt(-scores)\n",
    "\n",
    "display_scores(rfr_rmse_scores)"
   ],
   "metadata": {
    "collapsed": false,
    "pycharm": {
     "name": "#%%\n"
    }
   }
  },
  {
   "cell_type": "code",
   "execution_count": 59,
   "outputs": [
    {
     "data": {
      "text/plain": "['random_forest_regressor.pkl']"
     },
     "execution_count": 59,
     "metadata": {},
     "output_type": "execute_result"
    }
   ],
   "source": [
    "import joblib\n",
    "\n",
    "joblib.dump(rfr, \"random_forest_regressor.pkl\")  # to save"
   ],
   "metadata": {
    "collapsed": false,
    "pycharm": {
     "name": "#%%\n"
    }
   }
  },
  {
   "cell_type": "code",
   "execution_count": 82,
   "outputs": [
    {
     "data": {
      "text/plain": "GridSearchCV(cv=5, estimator=RandomForestRegressor(),\n             param_grid=[{'max_features': [6, 8, 10, 12],\n                          'n_estimators': [30, 60, 100]},\n                         {'bootstrap': [False], 'max_features': [2, 3, 4],\n                          'n_estimators': [3, 10]}],\n             return_train_score=True, scoring='neg_mean_squared_error')"
     },
     "execution_count": 82,
     "metadata": {},
     "output_type": "execute_result"
    }
   ],
   "source": [
    "# Model Fine-Tuning\n",
    "from sklearn.model_selection import GridSearchCV\n",
    "\n",
    "param_grid = [\n",
    "    {'n_estimators': [30, 60, 100], 'max_features': [6, 8, 10, 12]},  # bootstrap = True\n",
    "    {'bootstrap': [False], 'n_estimators': [3, 10], 'max_features': [2, 3, 4]},\n",
    "]\n",
    "# The trial of different combinations of hyperparams can be done using \"GridSearchCV\". It will do cross-validation to evaluate the combinations.\n",
    "grid_search = GridSearchCV(RandomForestRegressor(), param_grid, cv=5, scoring='neg_mean_squared_error',\n",
    "                           return_train_score=True)\n",
    "grid_search.fit(data_transformed_pd, g3_labels)"
   ],
   "metadata": {
    "collapsed": false,
    "pycharm": {
     "name": "#%%\n"
    }
   }
  },
  {
   "cell_type": "code",
   "execution_count": 83,
   "outputs": [
    {
     "name": "stdout",
     "output_type": "stream",
     "text": [
      "{'max_features': 6, 'n_estimators': 60}\n"
     ]
    },
    {
     "data": {
      "text/plain": "RandomForestRegressor(max_features=6, n_estimators=60)"
     },
     "execution_count": 83,
     "metadata": {},
     "output_type": "execute_result"
    }
   ],
   "source": [
    "print(grid_search.best_params_)\n",
    "grid_search.best_estimator_"
   ],
   "metadata": {
    "collapsed": false,
    "pycharm": {
     "name": "#%%\n"
    }
   }
  },
  {
   "cell_type": "code",
   "execution_count": 84,
   "outputs": [
    {
     "name": "stdout",
     "output_type": "stream",
     "text": [
      "2.74122646744971 {'max_features': 6, 'n_estimators': 30}\n",
      "2.682285983804291 {'max_features': 6, 'n_estimators': 60}\n",
      "2.7046102923448703 {'max_features': 6, 'n_estimators': 100}\n",
      "2.7210761157641157 {'max_features': 8, 'n_estimators': 30}\n",
      "2.73830328702104 {'max_features': 8, 'n_estimators': 60}\n",
      "2.706362093562208 {'max_features': 8, 'n_estimators': 100}\n",
      "2.7394968214289888 {'max_features': 10, 'n_estimators': 30}\n",
      "2.7080776386834198 {'max_features': 10, 'n_estimators': 60}\n",
      "2.6938226553554614 {'max_features': 10, 'n_estimators': 100}\n",
      "2.7431484301981817 {'max_features': 12, 'n_estimators': 30}\n",
      "2.7085708375209103 {'max_features': 12, 'n_estimators': 60}\n",
      "2.697853222625163 {'max_features': 12, 'n_estimators': 100}\n",
      "3.2852992654427897 {'bootstrap': False, 'max_features': 2, 'n_estimators': 3}\n",
      "2.9162826412428955 {'bootstrap': False, 'max_features': 2, 'n_estimators': 10}\n",
      "3.3064882417110195 {'bootstrap': False, 'max_features': 3, 'n_estimators': 3}\n",
      "2.961344393792499 {'bootstrap': False, 'max_features': 3, 'n_estimators': 10}\n",
      "3.143816514259356 {'bootstrap': False, 'max_features': 4, 'n_estimators': 3}\n",
      "3.004057251472908 {'bootstrap': False, 'max_features': 4, 'n_estimators': 10}\n"
     ]
    }
   ],
   "source": [
    "curves = grid_search.cv_results_\n",
    "for mean_score, params in zip(curves[\"mean_test_score\"], curves[\"params\"]):\n",
    "    print(np.sqrt(-mean_score), params)"
   ],
   "metadata": {
    "collapsed": false,
    "pycharm": {
     "name": "#%%\n"
    }
   }
  },
  {
   "cell_type": "code",
   "execution_count": 85,
   "outputs": [
    {
     "name": "stdout",
     "output_type": "stream",
     "text": [
      "[0.04281002 0.02273747 0.01651084 0.01227047 0.00840261 0.0149099\n",
      " 0.01893    0.00514584 0.0167205  0.01324464 0.04820932 0.02109435\n",
      " 0.01929344 0.01533946 0.006008   0.01219244 0.00792875 0.01330245\n",
      " 0.00674358 0.00292388 0.01462    0.01409277 0.00515159 0.01670733\n",
      " 0.01332576 0.01554294 0.01416241 0.00784729 0.00949596 0.00245088\n",
      " 0.02416537 0.04890751 0.04802191 0.04220294 0.02667844 0.03988481\n",
      " 0.10113696 0.03488355 0.04137986 0.05090596 0.02876251 0.03781664\n",
      " 0.03713862]\n"
     ]
    }
   ],
   "source": [
    "# To check the importance of each feature:\n",
    "feature_importance = grid_search.best_estimator_.feature_importances_\n",
    "print(feature_importance)"
   ],
   "metadata": {
    "collapsed": false,
    "pycharm": {
     "name": "#%%\n"
    }
   }
  },
  {
   "cell_type": "code",
   "execution_count": 90,
   "outputs": [],
   "source": [
    "# Test the model with test set\n",
    "final_model = grid_search.best_estimator_\n",
    "X_test = test_set.drop(['G1', 'G2', 'G3'], axis=1)\n",
    "y_test_g3 = test_set['G3'].copy()\n",
    "X_test_prepared = full_pipline.transform(X_test)  # Transform, net fit_transform\n",
    "final_predictions = final_model.predict(X_test_prepared)"
   ],
   "metadata": {
    "collapsed": false,
    "pycharm": {
     "name": "#%%\n"
    }
   }
  },
  {
   "cell_type": "code",
   "execution_count": 91,
   "outputs": [
    {
     "name": "stdout",
     "output_type": "stream",
     "text": [
      "2.6582720433413614\n"
     ]
    }
   ],
   "source": [
    "final_mse = mean_squared_error(y_test_g3, final_predictions)\n",
    "final_rmse = np.sqrt(final_mse)\n",
    "print(final_rmse)"
   ],
   "metadata": {
    "collapsed": false,
    "pycharm": {
     "name": "#%%\n"
    }
   }
  },
  {
   "cell_type": "code",
   "execution_count": 97,
   "outputs": [
    {
     "data": {
      "text/plain": "GridSearchCV(cv=5, estimator=DecisionTreeRegressor(),\n             param_grid={'max_depth': [1, 3, 5, 10],\n                         'max_features': ['auto', 'log2', 'sqrt', None],\n                         'max_leaf_nodes': [None, 10, 20, 30],\n                         'min_samples_leaf': [1, 2, 3, 4],\n                         'min_weight_fraction_leaf': [0.1, 0.2, 0.3],\n                         'splitter': ['best', 'random']},\n             return_train_score=True, scoring='neg_mean_squared_error')"
     },
     "execution_count": 97,
     "metadata": {},
     "output_type": "execute_result"
    }
   ],
   "source": [
    "# Fine tuning the model using GridSearchCV with DecisionTree regressor\n",
    "parameters = {\"splitter\": [\"best\", \"random\"],\n",
    "              \"max_depth\": [1, 3, 5, 10],\n",
    "              \"min_samples_leaf\": [1, 2, 3, 4],\n",
    "              \"min_weight_fraction_leaf\": [0.1, 0.2, 0.3],\n",
    "              \"max_features\": [\"auto\", \"log2\", \"sqrt\", None],\n",
    "              \"max_leaf_nodes\": [None, 10, 20, 30, ]}\n",
    "\n",
    "grid_search = GridSearchCV(DecisionTreeRegressor(), parameters, cv=5, scoring='neg_mean_squared_error',\n",
    "                           return_train_score=True)\n",
    "grid_search.fit(data_transformed_pd, g3_labels)"
   ],
   "metadata": {
    "collapsed": false,
    "pycharm": {
     "name": "#%%\n"
    }
   }
  },
  {
   "cell_type": "code",
   "execution_count": 99,
   "outputs": [
    {
     "data": {
      "text/plain": "DecisionTreeRegressor(max_depth=5, max_features='auto',\n                      min_weight_fraction_leaf=0.1)"
     },
     "execution_count": 99,
     "metadata": {},
     "output_type": "execute_result"
    }
   ],
   "source": [
    "grid_search.best_estimator_"
   ],
   "metadata": {
    "collapsed": false,
    "pycharm": {
     "name": "#%%\n"
    }
   }
  },
  {
   "cell_type": "code",
   "execution_count": 100,
   "outputs": [],
   "source": [
    "final_model = grid_search.best_estimator_\n",
    "final_predictions = final_model.predict(X_test_prepared)"
   ],
   "metadata": {
    "collapsed": false,
    "pycharm": {
     "name": "#%%\n"
    }
   }
  },
  {
   "cell_type": "code",
   "execution_count": 101,
   "outputs": [
    {
     "name": "stdout",
     "output_type": "stream",
     "text": [
      "2.8442118100263656\n"
     ]
    }
   ],
   "source": [
    "final_mse = mean_squared_error(y_test_g3, final_predictions)\n",
    "final_rmse = np.sqrt(final_mse)\n",
    "print(final_rmse)"
   ],
   "metadata": {
    "collapsed": false,
    "pycharm": {
     "name": "#%%\n"
    }
   }
  },
  {
   "cell_type": "code",
   "execution_count": null,
   "outputs": [],
   "source": [],
   "metadata": {
    "collapsed": false,
    "pycharm": {
     "name": "#%%\n"
    }
   }
  }
 ],
 "metadata": {
  "kernelspec": {
   "display_name": "Python 3",
   "language": "python",
   "name": "python3"
  },
  "language_info": {
   "codemirror_mode": {
    "name": "ipython",
    "version": 2
   },
   "file_extension": ".py",
   "mimetype": "text/x-python",
   "name": "python",
   "nbconvert_exporter": "python",
   "pygments_lexer": "ipython2",
   "version": "2.7.6"
  }
 },
 "nbformat": 4,
 "nbformat_minor": 0
}